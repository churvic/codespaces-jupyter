{
 "cells": [
  {
   "cell_type": "code",
   "execution_count": 3,
   "metadata": {},
   "outputs": [
    {
     "ename": "NameError",
     "evalue": "name 'inpunt' is not defined",
     "output_type": "error",
     "traceback": [
      "\u001b[0;31m---------------------------------------------------------------------------\u001b[0m",
      "\u001b[0;31mNameError\u001b[0m                                 Traceback (most recent call last)",
      "Cell \u001b[0;32mIn[3], line 1\u001b[0m\n\u001b[0;32m----> 1\u001b[0m distancia\u001b[38;5;241m=\u001b[39m\u001b[38;5;28mfloat\u001b[39m (\u001b[43minpunt\u001b[49m(\u001b[38;5;124m\"\u001b[39m\u001b[38;5;124mescribe la distancia en metros que quieres que recorra el sonido\u001b[39m\u001b[38;5;124m\"\u001b[39m))\n\u001b[1;32m      3\u001b[0m velocidad_del_sonido \u001b[38;5;241m=\u001b[39m \u001b[38;5;241m343\u001b[39m\n\u001b[1;32m      4\u001b[0m tiempo \u001b[38;5;241m=\u001b[39m distancia \u001b[38;5;241m/\u001b[39m velocidad_del_sonido\n",
      "\u001b[0;31mNameError\u001b[0m: name 'inpunt' is not defined"
     ]
    }
   ],
   "source": [
    "distancia=float (inpunt(\"escribe la distancia en metros que quieres que recorra el sonido\"))\n",
    "\n",
    "velocidad_del_sonido = 343\n",
    "tiempo = distancia / velocidad_del_sonido\n",
    "print(tiempo)"
   ]
  },
  {
   "cell_type": "code",
   "execution_count": null,
   "metadata": {},
   "outputs": [],
   "source": []
  }
 ],
 "metadata": {
  "kernelspec": {
   "display_name": "Python 3",
   "language": "python",
   "name": "python3"
  },
  "language_info": {
   "codemirror_mode": {
    "name": "ipython",
    "version": 3
   },
   "file_extension": ".py",
   "mimetype": "text/x-python",
   "name": "python",
   "nbconvert_exporter": "python",
   "pygments_lexer": "ipython3",
   "version": "3.10.13"
  }
 },
 "nbformat": 4,
 "nbformat_minor": 2
}
